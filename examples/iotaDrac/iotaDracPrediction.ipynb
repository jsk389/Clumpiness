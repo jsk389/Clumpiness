{
 "cells": [
  {
   "cell_type": "code",
   "execution_count": 1,
   "metadata": {},
   "outputs": [],
   "source": [
    "%load_ext autoreload\n",
    "%autoreload 2\n",
    "%matplotlib inline"
   ]
  },
  {
   "cell_type": "code",
   "execution_count": 2,
   "metadata": {},
   "outputs": [],
   "source": [
    "import clumpiness\n",
    "import matplotlib.pyplot as plt\n",
    "import numpy as np\n",
    "import pandas as pd\n",
    "import xgboost"
   ]
  },
  {
   "cell_type": "code",
   "execution_count": 3,
   "metadata": {},
   "outputs": [],
   "source": [
    "def create_metadata():\n",
    "    \"\"\"\n",
    "    For interest here is how the metadata was constructed from the individual files, otherwise this is stored in \n",
    "    its completed form in metadata.csv\n",
    "    \"\"\"\n",
    "    # Bailer-Jones distance\n",
    "    bj = pd.read_csv('Bailer-Jones.tsv', delimiter='\\t')\n",
    "    # Entry in TIC (TESS Input Catalogue)\n",
    "    tic = pd.read_csv('TICv8_iota_Draconis.csv', comment='#')\n",
    "    # Gaia data\n",
    "    gaia = pd.read_csv('1594239954087O-result.csv')\n",
    "\n",
    "    # Put it all together\n",
    "    # id r_est, r_error, astrometric_chi2_al, astrometric_n_good_obs_al, astrometric_excess_noise, kmag, bp_rp, numax, phot_g_mean_mag, ra, dec\n",
    "    distance = bj['rest'].values.item()\n",
    "    # Not needed when predicting, this is needed for training chunked versions of full Kepler data to \"smear\" distance distribution\n",
    "    # When training need to add 'r_lo' and 'r_hi' columnds from Bailer-Jones table as well.\n",
    "    distance_error = 0\n",
    "    # Gaia information\n",
    "    excess = gaia['astrometric_excess_noise'].values.item()\n",
    "    kmag = tic['Kmag'].values.item()\n",
    "    # Add numax which isn't ever used but made it easier to keep track of if it was also passed through feature extractor\n",
    "    numax = np.nan\n",
    "    \n",
    "    # Position on the sky\n",
    "    ra = gaia['ra'].values.item()\n",
    "    dec = gaia['dec'].values.item()\n",
    "    \n",
    "    metadata = pd.DataFrame(data=np.array(['1377591', distance, distance_error, excess, kmag, numax, ra, dec])[None,:],\n",
    "                            columns=['ID', 'distance', 'distance_error', 'astrometric_excess_noise', 'Kmag', 'numax', 'ra', 'dec'])\n",
    "\n",
    "    metadata.to_csv('iotaDrac_metadata.csv', index=False)\n",
    "    \n",
    "#create_metadata()"
   ]
  },
  {
   "cell_type": "code",
   "execution_count": 4,
   "metadata": {},
   "outputs": [],
   "source": [
    "# Dataset length is only 52 days but we round up here to 80 days to use that trained model, not that it really makes much difference\n",
    "NDAYS = 80\n",
    "model_params = clumpiness.config.retrieve_model_parameters(dataset_length=NDAYS)"
   ]
  },
  {
   "cell_type": "code",
   "execution_count": 5,
   "metadata": {},
   "outputs": [
    {
     "name": "stdout",
     "output_type": "stream",
     "text": [
      "Best iter: 301.0\n"
     ]
    }
   ],
   "source": [
    "# Load in model\n",
    "bst = xgboost.Booster(model_params)\n",
    "#bst.load_model('../Clumpiness-package/Code/-1random.model')\n",
    "bst.load_model('../../models/'+str(NDAYS)+'.model')\n",
    "best_iter = np.loadtxt('../../models/best_iter_'+str(NDAYS)+'.txt')\n",
    "print(f\"Best iter: {best_iter}\")"
   ]
  },
  {
   "cell_type": "code",
   "execution_count": 6,
   "metadata": {},
   "outputs": [
    {
     "data": {
      "text/html": [
       "<div>\n",
       "<style scoped>\n",
       "    .dataframe tbody tr th:only-of-type {\n",
       "        vertical-align: middle;\n",
       "    }\n",
       "\n",
       "    .dataframe tbody tr th {\n",
       "        vertical-align: top;\n",
       "    }\n",
       "\n",
       "    .dataframe thead th {\n",
       "        text-align: right;\n",
       "    }\n",
       "</style>\n",
       "<table border=\"1\" class=\"dataframe\">\n",
       "  <thead>\n",
       "    <tr style=\"text-align: right;\">\n",
       "      <th></th>\n",
       "      <th>ID</th>\n",
       "      <th>distance</th>\n",
       "      <th>distance_error</th>\n",
       "      <th>astrometric_excess_noise</th>\n",
       "      <th>Kmag</th>\n",
       "      <th>numax</th>\n",
       "      <th>ra</th>\n",
       "      <th>dec</th>\n",
       "    </tr>\n",
       "  </thead>\n",
       "  <tbody>\n",
       "    <tr>\n",
       "      <th>0</th>\n",
       "      <td>1377591</td>\n",
       "      <td>31.64925</td>\n",
       "      <td>0</td>\n",
       "      <td>1.829604</td>\n",
       "      <td>0.671</td>\n",
       "      <td>NaN</td>\n",
       "      <td>231.232323</td>\n",
       "      <td>58.96614</td>\n",
       "    </tr>\n",
       "  </tbody>\n",
       "</table>\n",
       "</div>"
      ],
      "text/plain": [
       "        ID  distance  distance_error  astrometric_excess_noise   Kmag  numax  \\\n",
       "0  1377591  31.64925               0                  1.829604  0.671    NaN   \n",
       "\n",
       "           ra       dec  \n",
       "0  231.232323  58.96614  "
      ]
     },
     "execution_count": 6,
     "metadata": {},
     "output_type": "execute_result"
    }
   ],
   "source": [
    "# Import metadata\n",
    "metadata = pd.read_csv('iotaDrac_metadata.csv')\n",
    "metadata"
   ]
  },
  {
   "cell_type": "code",
   "execution_count": 14,
   "metadata": {},
   "outputs": [],
   "source": [
    "# Set up data ready for feature computation\n",
    "data_file = '1377591.dat'\n",
    "star = clumpiness.Dataset_regular.Dataset('1377591', data_file)\n",
    "# Read in the dataset with the correct cadence\n",
    "# ndays is set to -1 because we don't want to cut down the timeseries into smaller chunks\n",
    "star.read_timeseries(dt=120.0)\n",
    "# Do data preparation\n",
    "star.processing()"
   ]
  },
  {
   "cell_type": "code",
   "execution_count": 15,
   "metadata": {},
   "outputs": [],
   "source": [
    "# Set up feature class\n",
    "feat = clumpiness.features.Features(star)\n",
    "\n",
    "# Compute features\n",
    "zs = feat.compute_zero_crossings()\n",
    "var = feat.compute_var()\n",
    "hoc, _ = feat.compute_higher_order_crossings(5)\n",
    "mc = feat.compute_variance_change()\n",
    "fill = feat.compute_fill()\n",
    "# Compute absolute magnitude\n",
    "abs_mag, mu0, Ak, good_flag, distance = feat.compute_abs_K_mag(metadata['Kmag'].values.item(), metadata['distance'].values.item(), \n",
    "                                                               metadata['distance_error'].values.item(), \n",
    "                                                               metadata['ra'].values.item(), metadata['dec'].values.item(), \n",
    "                                                               metadata['astrometric_excess_noise'].values.item())"
   ]
  },
  {
   "cell_type": "code",
   "execution_count": 16,
   "metadata": {},
   "outputs": [
    {
     "name": "stdout",
     "output_type": "stream",
     "text": [
      "0.08342928855927177 2.4457237417062245 1.3875889929036926 1.8148800494317134 0.9260631335931732\n"
     ]
    }
   ],
   "source": [
    "# Print out features just to visually inspect them and make sure they are sensible\n",
    "print(zs, np.log10(var), hoc, np.log10(mc), fill)"
   ]
  },
  {
   "cell_type": "code",
   "execution_count": 17,
   "metadata": {},
   "outputs": [],
   "source": [
    "# Set up array for prediction\n",
    "predict = xgboost.DMatrix(np.array([var, zs, hoc, abs_mag, mc]).reshape(1,-1))"
   ]
  },
  {
   "cell_type": "code",
   "execution_count": 18,
   "metadata": {},
   "outputs": [
    {
     "name": "stdout",
     "output_type": "stream",
     "text": [
      "[3.5798427e-04 1.0115444e-03 5.6203318e-01 4.3573317e-01 8.6411112e-04]\n"
     ]
    }
   ],
   "source": [
    "# Make the prediction\n",
    "preds = bst.predict(predict, ntree_limit=int(best_iter)).squeeze()\n",
    "print(preds)"
   ]
  },
  {
   "cell_type": "code",
   "execution_count": 19,
   "metadata": {},
   "outputs": [],
   "source": [
    "# Combine the predictions into RGB, RC and \"KOI\"\n",
    "RGB_prob = preds[0] + preds[1] + preds[2]\n",
    "RC_prob = preds[3]\n",
    "KOI_prob = preds[4]"
   ]
  },
  {
   "cell_type": "code",
   "execution_count": 20,
   "metadata": {},
   "outputs": [
    {
     "name": "stdout",
     "output_type": "stream",
     "text": [
      "This star has a RGB probability of 0.5634027123451233, RC probability of 0.4357331693172455 and probability of being neither of 0.0008641111198812723\n"
     ]
    }
   ],
   "source": [
    "print(f\"This star has a RGB probability of {RGB_prob}, RC probability of {RC_prob} and probability of being neither of {KOI_prob}\")"
   ]
  },
  {
   "cell_type": "code",
   "execution_count": null,
   "metadata": {},
   "outputs": [],
   "source": []
  }
 ],
 "metadata": {
  "kernelspec": {
   "display_name": "Python 3",
   "language": "python",
   "name": "python3"
  },
  "language_info": {
   "codemirror_mode": {
    "name": "ipython",
    "version": 3
   },
   "file_extension": ".py",
   "mimetype": "text/x-python",
   "name": "python",
   "nbconvert_exporter": "python",
   "pygments_lexer": "ipython3",
   "version": "3.7.6"
  }
 },
 "nbformat": 4,
 "nbformat_minor": 4
}
